{
 "cells": [
  {
   "cell_type": "code",
   "execution_count": 2,
   "source": [
    "import pandas as pd"
   ],
   "outputs": [],
   "metadata": {}
  },
  {
   "cell_type": "code",
   "execution_count": 3,
   "source": [
    "data = '../data/samples.json'"
   ],
   "outputs": [],
   "metadata": {}
  },
  {
   "cell_type": "code",
   "execution_count": 4,
   "source": [
    "df = pd.read_json(data)"
   ],
   "outputs": [],
   "metadata": {}
  },
  {
   "cell_type": "code",
   "execution_count": 8,
   "source": [
    "df['names']"
   ],
   "outputs": [
    {
     "output_type": "execute_result",
     "data": {
      "text/plain": [
       "0       940\n",
       "1       941\n",
       "2       943\n",
       "3       944\n",
       "4       945\n",
       "       ... \n",
       "148    1574\n",
       "149    1576\n",
       "150    1577\n",
       "151    1581\n",
       "152    1601\n",
       "Name: names, Length: 153, dtype: int64"
      ]
     },
     "metadata": {},
     "execution_count": 8
    }
   ],
   "metadata": {}
  },
  {
   "cell_type": "code",
   "execution_count": 5,
   "source": [
    "df['metadata'][0]"
   ],
   "outputs": [
    {
     "output_type": "execute_result",
     "data": {
      "text/plain": [
       "{'id': 940,\n",
       " 'ethnicity': 'Caucasian',\n",
       " 'gender': 'F',\n",
       " 'age': 24.0,\n",
       " 'location': 'Beaufort/NC',\n",
       " 'bbtype': 'I',\n",
       " 'wfreq': 2.0}"
      ]
     },
     "metadata": {},
     "execution_count": 5
    }
   ],
   "metadata": {}
  },
  {
   "cell_type": "code",
   "execution_count": 6,
   "source": [
    "df['samples'][0]['otu_ids']"
   ],
   "outputs": [
    {
     "output_type": "execute_result",
     "data": {
      "text/plain": [
       "[1167,\n",
       " 2859,\n",
       " 482,\n",
       " 2264,\n",
       " 41,\n",
       " 1189,\n",
       " 352,\n",
       " 189,\n",
       " 2318,\n",
       " 1977,\n",
       " 3450,\n",
       " 874,\n",
       " 1959,\n",
       " 2191,\n",
       " 1950,\n",
       " 2077,\n",
       " 2275,\n",
       " 944,\n",
       " 2184,\n",
       " 2244,\n",
       " 2024,\n",
       " 2419,\n",
       " 2811,\n",
       " 165,\n",
       " 2782,\n",
       " 2247,\n",
       " 2011,\n",
       " 2396,\n",
       " 830,\n",
       " 2964,\n",
       " 1795,\n",
       " 2722,\n",
       " 307,\n",
       " 2178,\n",
       " 2908,\n",
       " 1193,\n",
       " 2167,\n",
       " 1208,\n",
       " 2039,\n",
       " 1274,\n",
       " 2739,\n",
       " 2737,\n",
       " 1314,\n",
       " 1962,\n",
       " 2186,\n",
       " 2335,\n",
       " 2936,\n",
       " 907,\n",
       " 833,\n",
       " 2483,\n",
       " 2475,\n",
       " 2491,\n",
       " 2291,\n",
       " 159,\n",
       " 2571,\n",
       " 2350,\n",
       " 2342,\n",
       " 2546,\n",
       " 725,\n",
       " 170,\n",
       " 1505,\n",
       " 513,\n",
       " 259,\n",
       " 1169,\n",
       " 258,\n",
       " 1232,\n",
       " 1497,\n",
       " 1498,\n",
       " 1503,\n",
       " 412,\n",
       " 2235,\n",
       " 1960,\n",
       " 1968,\n",
       " 121,\n",
       " 2065,\n",
       " 340,\n",
       " 2110,\n",
       " 2188,\n",
       " 357,\n",
       " 342]"
      ]
     },
     "metadata": {},
     "execution_count": 6
    }
   ],
   "metadata": {}
  },
  {
   "cell_type": "code",
   "execution_count": 17,
   "source": [
    "df['samples'][0]['sample_values']"
   ],
   "outputs": [
    {
     "output_type": "execute_result",
     "data": {
      "text/plain": [
       "[163,\n",
       " 126,\n",
       " 113,\n",
       " 78,\n",
       " 71,\n",
       " 51,\n",
       " 50,\n",
       " 47,\n",
       " 40,\n",
       " 40,\n",
       " 37,\n",
       " 36,\n",
       " 30,\n",
       " 28,\n",
       " 25,\n",
       " 23,\n",
       " 22,\n",
       " 19,\n",
       " 19,\n",
       " 14,\n",
       " 13,\n",
       " 13,\n",
       " 13,\n",
       " 12,\n",
       " 12,\n",
       " 11,\n",
       " 11,\n",
       " 11,\n",
       " 10,\n",
       " 10,\n",
       " 10,\n",
       " 8,\n",
       " 7,\n",
       " 7,\n",
       " 7,\n",
       " 6,\n",
       " 5,\n",
       " 5,\n",
       " 5,\n",
       " 4,\n",
       " 4,\n",
       " 4,\n",
       " 3,\n",
       " 3,\n",
       " 3,\n",
       " 3,\n",
       " 3,\n",
       " 3,\n",
       " 3,\n",
       " 2,\n",
       " 2,\n",
       " 2,\n",
       " 2,\n",
       " 2,\n",
       " 2,\n",
       " 2,\n",
       " 2,\n",
       " 2,\n",
       " 2,\n",
       " 2,\n",
       " 2,\n",
       " 2,\n",
       " 2,\n",
       " 2,\n",
       " 2,\n",
       " 2,\n",
       " 2,\n",
       " 2,\n",
       " 2,\n",
       " 2,\n",
       " 2,\n",
       " 2,\n",
       " 2,\n",
       " 2,\n",
       " 2,\n",
       " 2,\n",
       " 2,\n",
       " 2,\n",
       " 2,\n",
       " 2]"
      ]
     },
     "metadata": {},
     "execution_count": 17
    }
   ],
   "metadata": {}
  },
  {
   "cell_type": "code",
   "execution_count": null,
   "source": [],
   "outputs": [],
   "metadata": {}
  }
 ],
 "metadata": {
  "orig_nbformat": 4,
  "language_info": {
   "name": "python"
  }
 },
 "nbformat": 4,
 "nbformat_minor": 2
}